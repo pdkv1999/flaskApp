{
 "cells": [
  {
   "cell_type": "code",
   "execution_count": 23,
   "id": "1d80ac2f-90bf-497e-9d17-d9a820e46b27",
   "metadata": {},
   "outputs": [],
   "source": [
    "# 📦 Import libraries\n",
    "import pandas as pd\n",
    "import numpy as np\n",
    "from sklearn.model_selection import train_test_split\n",
    "from sklearn.preprocessing import StandardScaler\n",
    "from sklearn.feature_extraction.text import TfidfVectorizer\n",
    "from sklearn.ensemble import AdaBoostClassifier\n",
    "from sklearn.tree import DecisionTreeClassifier\n",
    "from sklearn.metrics import classification_report, confusion_matrix\n",
    "from imblearn.over_sampling import SMOTE"
   ]
  },
  {
   "cell_type": "code",
   "execution_count": 35,
   "id": "1121a445-13e7-4632-9c85-b10f5e4ea65a",
   "metadata": {},
   "outputs": [
    {
     "name": "stdout",
     "output_type": "stream",
     "text": [
      "Initial shape: (222, 11)\n",
      "After cleaning: (192, 8)\n",
      "acuity_label\n",
      "Moderate    94\n",
      "Low         89\n",
      "Critical     9\n",
      "Name: count, dtype: int64\n"
     ]
    }
   ],
   "source": [
    "# 📊 Load dataset\n",
    "df = pd.read_csv(\"Downloads/triage.csv\")\n",
    "print(\"Initial shape:\", df.shape)\n",
    "\n",
    "# 🔧 Convert vital sign columns to numeric\n",
    "vital_cols = ['temperature', 'heartrate', 'resprate', 'o2sat', 'sbp', 'dbp']\n",
    "for col in vital_cols:\n",
    "    df[col] = pd.to_numeric(df[col], errors='coerce')\n",
    "\n",
    "# ❌ Drop rows with missing acuity or chief complaint\n",
    "df.dropna(subset=['acuity', 'chiefcomplaint'], inplace=True)\n",
    "\n",
    "# 🏷️ Map acuity numbers to labels\n",
    "acuity_map = {1: 'Critical', 2: 'Moderate', 3: 'Low'}\n",
    "df['acuity_label'] = df['acuity'].map(acuity_map)\n",
    "\n",
    "# ✅ Keep only relevant features for modelling\n",
    "df = df[['chiefcomplaint'] + vital_cols + ['acuity_label']]\n",
    "\n",
    "# ❌ Drop any remaining NaNs\n",
    "df.dropna(inplace=True)\n",
    "\n",
    "# 📈 Display cleaned dataset shape and class distribution\n",
    "print(\"After cleaning:\", df.shape)\n",
    "print(df['acuity_label'].value_counts())\n"
   ]
  },
  {
   "cell_type": "code",
   "execution_count": 36,
   "id": "6bbe47bd-1621-450c-a9cc-ab613f840b13",
   "metadata": {},
   "outputs": [
    {
     "name": "stdout",
     "output_type": "stream",
     "text": [
      "Before augmentation class counts:\n",
      "acuity_label\n",
      "Moderate    94\n",
      "Low         89\n",
      "Critical     9\n",
      "Name: count, dtype: int64\n",
      "After manual augmentation class counts:\n",
      "acuity_label\n",
      "Critical    99\n",
      "Moderate    94\n",
      "Low         89\n",
      "Name: count, dtype: int64\n"
     ]
    }
   ],
   "source": [
    "print(\"Before augmentation class counts:\")\n",
    "print(df['acuity_label'].value_counts())\n",
    "\n",
    "# Extract Critical samples safely\n",
    "critical_df = df[df['acuity_label'] == 'Critical'].copy()\n",
    "\n",
    "# Duplicate each Critical sample 10 times (6 * 10 = 60 rows)\n",
    "augmented_critical = pd.concat([critical_df]*10, ignore_index=True)\n",
    "\n",
    "# Slightly perturb numeric vitals by adding small random noise\n",
    "for col in vital_cols:\n",
    "    if col in augmented_critical.columns:\n",
    "        augmented_critical[col] += np.random.normal(0, 0.1, size=augmented_critical.shape[0])\n",
    "\n",
    "# ✅ Combine back with original dataframe\n",
    "df_augmented = pd.concat([df, augmented_critical], ignore_index=True)\n",
    "\n",
    "# ✅ Use df_augmented consistently in pipeline from here onwards\n",
    "print(\"After manual augmentation class counts:\")\n",
    "print(df_augmented['acuity_label'].value_counts())"
   ]
  },
  {
   "cell_type": "code",
   "execution_count": 37,
   "id": "dc22a4e5-dc10-4dc6-9f79-2ac594992c34",
   "metadata": {},
   "outputs": [
    {
     "name": "stdout",
     "output_type": "stream",
     "text": [
      "Combined feature matrix shape: (282, 56)\n",
      "Target label distribution:\n",
      " acuity_label\n",
      "Critical    99\n",
      "Moderate    94\n",
      "Low         89\n",
      "Name: count, dtype: int64\n"
     ]
    }
   ],
   "source": [
    "# ✨ Split text and numeric features from augmented dataframe\n",
    "X_text = df_augmented['chiefcomplaint']\n",
    "X_numeric = df_augmented[vital_cols]\n",
    "y = df_augmented['acuity_label']\n",
    "\n",
    "# 📝 Vectorize chief complaints using TF-IDF\n",
    "tfidf = TfidfVectorizer(stop_words='english', max_features=50)\n",
    "X_text_tfidf = tfidf.fit_transform(X_text).toarray()\n",
    "\n",
    "# 🔗 Combine TF-IDF features with numeric vitals into final feature matrix\n",
    "X_combined = np.hstack((X_text_tfidf, X_numeric.values))\n",
    "\n",
    "# ✅ Check shape for verification\n",
    "print(\"Combined feature matrix shape:\", X_combined.shape)\n",
    "print(\"Target label distribution:\\n\", y.value_counts())"
   ]
  },
  {
   "cell_type": "code",
   "execution_count": 38,
   "id": "5573ae83-76e2-4422-91e1-dc80d75c3e15",
   "metadata": {},
   "outputs": [
    {
     "name": "stdout",
     "output_type": "stream",
     "text": [
      "Before SMOTE class counts:\n",
      " acuity_label\n",
      "Critical    79\n",
      "Moderate    75\n",
      "Low         71\n",
      "Name: count, dtype: int64\n",
      "Training shape before SMOTE: (225, 56)\n",
      "After targeted SMOTE class counts:\n",
      " acuity_label\n",
      "Critical    90\n",
      "Moderate    75\n",
      "Low         71\n",
      "Name: count, dtype: int64\n",
      "Training shape after SMOTE: (236, 56)\n",
      "Test shape: (57, 56)\n"
     ]
    }
   ],
   "source": [
    "# ✅ Split before applying SMOTE, using df_augmented processed features\n",
    "X_train, X_test, y_train, y_test = train_test_split(\n",
    "    X_combined, y, test_size=0.2, random_state=42, stratify=y\n",
    ")\n",
    "\n",
    "# 🔎 Check class distribution before SMOTE\n",
    "print(\"Before SMOTE class counts:\\n\", pd.Series(y_train).value_counts())\n",
    "print(\"Training shape before SMOTE:\", X_train.shape)\n",
    "\n",
    "# ✅ Apply targeted SMOTE to bring Critical class up to ~50 samples\n",
    "smote_critical = SMOTE(random_state=42, sampling_strategy={'Critical': 90}, k_neighbors=1)\n",
    "X_train_resampled, y_train_resampled = smote_critical.fit_resample(X_train, y_train)\n",
    "\n",
    "# 🔎 Verify new class distribution after SMOTE\n",
    "print(\"After targeted SMOTE class counts:\\n\", pd.Series(y_train_resampled).value_counts())\n",
    "print(\"Training shape after SMOTE:\", X_train_resampled.shape)\n",
    "print(\"Test shape:\", X_test.shape)"
   ]
  },
  {
   "cell_type": "code",
   "execution_count": 39,
   "id": "08011cc6-cffc-4952-bbda-728c52e01b4e",
   "metadata": {},
   "outputs": [
    {
     "name": "stderr",
     "output_type": "stream",
     "text": [
      "/opt/anaconda3/lib/python3.12/site-packages/sklearn/ensemble/_weight_boosting.py:527: FutureWarning: The SAMME.R algorithm (the default) is deprecated and will be removed in 1.6. Use the SAMME algorithm to circumvent this warning.\n",
      "  warnings.warn(\n"
     ]
    },
    {
     "name": "stdout",
     "output_type": "stream",
     "text": [
      "✅ AdaBoost model training completed.\n"
     ]
    }
   ],
   "source": [
    "# ✅ Train AdaBoost with Decision Tree on SMOTE-resampled data\n",
    "\n",
    "from sklearn.ensemble import AdaBoostClassifier\n",
    "from sklearn.tree import DecisionTreeClassifier\n",
    "\n",
    "# 🔧 Increase base estimator depth for better splits\n",
    "ada = AdaBoostClassifier(\n",
    "    estimator=DecisionTreeClassifier(max_depth=6),\n",
    "    n_estimators=500,\n",
    "    learning_rate=0.7,\n",
    "    random_state=42\n",
    ")\n",
    "\n",
    "# 🔎 Fit model on resampled training data\n",
    "ada.fit(X_train_resampled, y_train_resampled)\n",
    "\n",
    "print(\"✅ AdaBoost model training completed.\")"
   ]
  },
  {
   "cell_type": "code",
   "execution_count": 40,
   "id": "bb98f5f2-e7f8-4a6d-a93d-8a6b7acd34e7",
   "metadata": {},
   "outputs": [
    {
     "name": "stdout",
     "output_type": "stream",
     "text": [
      "📈 AdaBoost Classification Report:\n",
      "\n",
      "              precision    recall  f1-score   support\n",
      "\n",
      "    Critical       0.87      1.00      0.93        20\n",
      "         Low       0.71      0.67      0.69        18\n",
      "    Moderate       0.65      0.58      0.61        19\n",
      "\n",
      "    accuracy                           0.75        57\n",
      "   macro avg       0.74      0.75      0.74        57\n",
      "weighted avg       0.74      0.75      0.75        57\n",
      "\n",
      "🧾 Confusion Matrix:\n",
      "\n",
      "[[20  0  0]\n",
      " [ 0 12  6]\n",
      " [ 3  5 11]]\n"
     ]
    }
   ],
   "source": [
    "# ✅ Make predictions on the test set\n",
    "y_pred = ada.predict(X_test)\n",
    "\n",
    "# 📈 Display classification report\n",
    "print(\"📈 AdaBoost Classification Report:\\n\")\n",
    "print(classification_report(y_test, y_pred))\n",
    "\n",
    "# 🧾 Display confusion matrix\n",
    "print(\"🧾 Confusion Matrix:\\n\")\n",
    "print(confusion_matrix(y_test, y_pred))"
   ]
  },
  {
   "cell_type": "code",
   "execution_count": 41,
   "id": "c974712c-c21a-4a21-8a1d-75b8c203c137",
   "metadata": {},
   "outputs": [
    {
     "name": "stdout",
     "output_type": "stream",
     "text": [
      "✅ Model, TF-IDF vectorizer, and vital columns saved for Flask deployment.\n"
     ]
    }
   ],
   "source": [
    "import pickle\n",
    "\n",
    "# 💾 Save trained AdaBoost model\n",
    "with open(\"adaboost_model.pkl\", \"wb\") as f:\n",
    "    pickle.dump(ada, f)\n",
    "\n",
    "# 💾 Save TF-IDF vectorizer used for 'chiefcomplaint'\n",
    "with open(\"tfidf_vectorizer.pkl\", \"wb\") as f:\n",
    "    pickle.dump(tfidf, f)\n",
    "\n",
    "# 💾 Save the order of vital columns\n",
    "vital_cols = ['temperature', 'heartrate', 'resprate', \n",
    "              'o2sat', 'sbp', 'dbp', 'pain']\n",
    "with open(\"vital_columns.pkl\", \"wb\") as f:\n",
    "    pickle.dump(vital_cols, f)\n",
    "\n",
    "print(\"✅ Model, TF-IDF vectorizer, and vital columns saved for Flask deployment.\")"
   ]
  },
  {
   "cell_type": "code",
   "execution_count": 42,
   "id": "c511363c-144a-4691-84fb-1c4b4410c960",
   "metadata": {},
   "outputs": [
    {
     "name": "stdout",
     "output_type": "stream",
     "text": [
      "TFIDF feature count: 50\n",
      "Model expects features: 56\n"
     ]
    }
   ],
   "source": [
    "print(\"TFIDF feature count:\", len(tfidf.get_feature_names_out()))\n",
    "print(\"Model expects features:\", len(ada.feature_importances_))"
   ]
  },
  {
   "cell_type": "code",
   "execution_count": 44,
   "id": "f30030b4-01d9-448e-91a8-9c906e7579a2",
   "metadata": {},
   "outputs": [
    {
     "name": "stdout",
     "output_type": "stream",
     "text": [
      "TFIDF feature count: 50\n",
      "Vital feature count: 6\n",
      "Total feature names: 56\n",
      "Model feature importances: 56\n"
     ]
    },
    {
     "data": {
      "image/png": "[encoded data removed]",
      "text/plain": [
       "<Figure size 800x500 with 1 Axes>"
      ]
     },
     "metadata": {},
     "output_type": "display_data"
    }
   ],
   "source": [
    "# Reconstruct full feature names\n",
    "vital_cols = ['temperature', 'heartrate', 'resprate', 'o2sat', 'sbp', 'dbp']\n",
    "feature_names = list(tfidf.get_feature_names_out()) + vital_cols\n",
    "\n",
    "# Confirm counts match\n",
    "print(\"TFIDF feature count:\", len(tfidf.get_feature_names_out()))\n",
    "print(\"Vital feature count:\", len(vital_cols))\n",
    "print(\"Total feature names:\", len(feature_names))\n",
    "print(\"Model feature importances:\", len(ada.feature_importances_))\n",
    "\n",
    "assert len(feature_names) == len(ada.feature_importances_), \"Feature name and importance length mismatch!\"\n",
    "\n",
    "# Combine into dataframe\n",
    "importances_df = pd.DataFrame({\n",
    "    'Feature': feature_names,\n",
    "    'Importance': ada.feature_importances_\n",
    "})\n",
    "\n",
    "# Separate vitals and tfidf\n",
    "vitals_df = importances_df[importances_df['Feature'].isin(vital_cols)]\n",
    "tfidf_df = importances_df[~importances_df['Feature'].isin(vital_cols)]\n",
    "\n",
    "# Aggregate TFIDF features\n",
    "tfidf_importance_sum = tfidf_df['Importance'].sum()\n",
    "tfidf_summary = pd.DataFrame({\n",
    "    'Feature': ['Complaint Text (TFIDF)'],\n",
    "    'Importance': [tfidf_importance_sum]\n",
    "})\n",
    "\n",
    "# Combine and plot\n",
    "final_df = pd.concat([vitals_df, tfidf_summary]).sort_values(by='Importance', ascending=False)\n",
    "\n",
    "import matplotlib.pyplot as plt\n",
    "\n",
    "plt.figure(figsize=(8,5))\n",
    "plt.barh(final_df['Feature'], final_df['Importance'], color='teal')\n",
    "plt.xlabel('Importance Score')\n",
    "plt.title('Key Drivers of Patient Severity (AdaBoost Model)')\n",
    "plt.gca().invert_yaxis()\n",
    "plt.tight_layout()\n",
    "plt.savefig('feature_importance_cleaned.png', dpi=300)\n",
    "plt.show()\n"
   ]
  },
  {
   "cell_type": "code",
   "execution_count": null,
   "id": "4663f04c-e2be-40d7-9df2-13122314a4d1",
   "metadata": {},
   "outputs": [],
   "source": []
  }
 ],
 "metadata": {
  "kernelspec": {
   "display_name": "Python 3 (ipykernel)",
   "language": "python",
   "name": "python3"
  },
  "language_info": {
   "codemirror_mode": {
    "name": "ipython",
    "version": 3
   },
   "file_extension": ".py",
   "mimetype": "text/x-python",
   "name": "python",
   "nbconvert_exporter": "python",
   "pygments_lexer": "ipython3",
   "version": "3.12.7"
  }
 },
 "nbformat": 4,
 "nbformat_minor": 5
}
